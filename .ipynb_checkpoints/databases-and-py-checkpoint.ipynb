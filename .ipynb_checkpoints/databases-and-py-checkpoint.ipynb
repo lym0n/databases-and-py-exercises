{
 "cells": [
  {
   "cell_type": "markdown",
   "metadata": {
    "azdata_cell_guid": "d7b89799-a102-479f-87b7-f2759ff1962e"
   },
   "source": [
    "# Exercises: Working with Databases in Python\n",
    "\n",
    "For the exercises, we will be practicing the steps outlined in this [article](https://towardsdatascience.com/do-you-know-python-has-a-built-in-database-d553989c87bd). You can skip the portion where the author downloads a separate SQL client to examine the database. "
   ]
  },
  {
   "cell_type": "markdown",
   "metadata": {
    "azdata_cell_guid": "89a0b6d9-821d-44f5-9795-9519809b9108"
   },
   "source": [
    "## Import Libraries\n",
    "\n",
    "We will need `pandas` and `sqlite3`. SQLite is a small, self-contained database engine that comes with Python so you will not have to do any additional installations for this lesson. If you want to connect to a different database engine, such as SQL server, you may need additional libraries such as `sqlalchemy` or `pyodbc` and a tool called a driver which helps to connect a database to an application.\n"
   ]
  },
  {
   "cell_type": "code",
   "execution_count": 1,
   "metadata": {
    "azdata_cell_guid": "865655b0-22e9-47f4-a5df-4bfe97dda4a3",
    "tags": []
   },
   "outputs": [],
   "source": [
    "# Import sqlite3 and pandas.\n",
    "\n",
    "import sqlite3 as sl\n",
    "import pandas as pd"
   ]
  },
  {
   "cell_type": "markdown",
   "metadata": {
    "azdata_cell_guid": "be8436e2-68be-47f8-9fc9-06c235a6a128"
   },
   "source": [
    "## Create a Database\n",
    "\n",
    "In the article, the author shows how to use `sqlite3` to open a connection to an existing database or create a new one. Use this method to make a new database called `exercises.db`."
   ]
  },
  {
   "cell_type": "code",
   "execution_count": 5,
   "metadata": {
    "azdata_cell_guid": "707abc33-c6ee-416e-9358-c799f1fcbb12"
   },
   "outputs": [
    {
     "name": "stdout",
     "output_type": "stream",
     "text": [
      "Opened database successfully\n"
     ]
    }
   ],
   "source": [
    "# Create a new database called exercises.db.\n",
    "\n",
    "con = sl.connect('exercises.db')\n",
    "print (\"Opened database successfully\");\n",
    "\n"
   ]
  },
  {
   "cell_type": "markdown",
   "metadata": {
    "azdata_cell_guid": "dc9df060-ddc9-4573-bd74-3c97323f85a7"
   },
   "source": [
    "## Create a Table\n",
    "\n",
    "Follow the steps in the article to create a table called `favorite_books.db`. This table should include columns for the title, author, and a short description of why it is a favorite."
   ]
  },
  {
   "cell_type": "code",
   "execution_count": 11,
   "metadata": {
    "azdata_cell_guid": "3cc6b80e-3fa2-4d2e-b2a9-1ea5d68ba01e"
   },
   "outputs": [
    {
     "ename": "OperationalError",
     "evalue": "table favorite_books already exists",
     "output_type": "error",
     "traceback": [
      "\u001b[1;31m---------------------------------------------------------------------------\u001b[0m",
      "\u001b[1;31mOperationalError\u001b[0m                          Traceback (most recent call last)",
      "\u001b[1;32m~\\AppData\\Local\\Temp\\ipykernel_42644\\2939813194.py\u001b[0m in \u001b[0;36m<module>\u001b[1;34m\u001b[0m\n\u001b[0;32m      1\u001b[0m \u001b[1;31m# Create a new table in your database.\u001b[0m\u001b[1;33m\u001b[0m\u001b[1;33m\u001b[0m\u001b[0m\n\u001b[0;32m      2\u001b[0m \u001b[1;33m\u001b[0m\u001b[0m\n\u001b[1;32m----> 3\u001b[1;33m con.execute('''CREATE TABLE favorite_books\n\u001b[0m\u001b[0;32m      4\u001b[0m          (ID INT PRIMARY KEY     NOT NULL,\n\u001b[0;32m      5\u001b[0m          \u001b[0mtitle\u001b[0m           \u001b[0mTEXT\u001b[0m    \u001b[0mNOT\u001b[0m \u001b[0mNULL\u001b[0m\u001b[1;33m,\u001b[0m\u001b[1;33m\u001b[0m\u001b[1;33m\u001b[0m\u001b[0m\n",
      "\u001b[1;31mOperationalError\u001b[0m: table favorite_books already exists"
     ]
    }
   ],
   "source": [
    "# Create a new table in your database.\n",
    "\n",
    "con.execute('''CREATE TABLE favorite_books\n",
    "         (ID INT PRIMARY KEY     NOT NULL,\n",
    "         title           TEXT    NOT NULL,\n",
    "         author            INT     NOT NULL,\n",
    "         description        CHAR(50));''')\n",
    "print (\"Table created successfully\");\n",
    "\n",
    "con.close()\n",
    "\n",
    "print (favorite_books)\n"
   ]
  },
  {
   "cell_type": "markdown",
   "metadata": {
    "azdata_cell_guid": "e9acec60-1485-45c8-9f12-997f959d44cc"
   },
   "source": [
    "## Insert Records\n",
    "\n",
    "Add 3 entries to your table for your top 3 favorite books."
   ]
  },
  {
   "cell_type": "markdown",
   "metadata": {
    "azdata_cell_guid": "c7b8e386-f3f4-42ad-aa91-a2da2e7904a5"
   },
   "source": [
    "# Add your 3 favorite books to your table.\n",
    "\n",
    "sql = 'INSERT INTO favorite_books (id, title, author, description) values(?, ?, ?, ?)'\n",
    "data = [\n",
    "    (1, 'All About Love', 'belle hooks', 'radical love'),\n",
    "    (2, 'Wow, No Thankyou', 'Samantha Irby', 'unbeleivably hilarious and relatable take on dating, life, awkwradness'),\n",
    "    (3, 'Cracy Rick Asians', 'Kevin Kwan', 'lavish fantastical imagery, snark humour, diff culture')\n",
    "    \n",
    "]\n",
    "\n",
    "with con:\n",
    "    con.executemany(sql, data)\n",
    "    \n",
    "\n",
    "    \n"
   ]
  },
  {
   "cell_type": "code",
   "execution_count": 21,
   "metadata": {
    "azdata_cell_guid": "c7b8e386-f3f4-42ad-aa91-a2da2e7904a5"
   },
   "outputs": [
    {
     "name": "stdout",
     "output_type": "stream",
     "text": [
      "Records created successfully\n"
     ]
    }
   ],
   "source": [
    "# Add your 3 favorite books to your table.\n",
    "\n",
    "    \n",
    "con.execute(\"INSERT INTO favorite_books (id, title, author, description) values (1, 'All About Love', 'belle hooks', 'radical love')\");\n",
    "\n",
    "con.execute(\"INSERT INTO favorite_books (id, title, author, description) values (2, 'Wow, No Thankyou', 'Samantha Irby', 'unbeleivably hilarious and relatable take on dating, life, awkwradness')\");\n",
    "\n",
    "con.execute(\"INSERT INTO favorite_books (id, title, author, description) values (3, 'Crazy Rick Asians', 'Kevin Kwan', 'lavish fantastical imagery, snark humour, diff culture')\");\n",
    "\n",
    "con.commit()\n",
    "print (\"Records created successfully\");\n",
    "con.close()"
   ]
  },
  {
   "cell_type": "markdown",
   "metadata": {
    "azdata_cell_guid": "b2e48ba7-b418-4418-bb16-598fb82b964c"
   },
   "source": [
    "## Query Your Table\n",
    "\n",
    "Write a `SELECT` query to output the 3 records in your table."
   ]
  },
  {
   "cell_type": "code",
   "execution_count": 26,
   "metadata": {
    "azdata_cell_guid": "c341e7e2-d635-4c26-b744-237c762f7f41",
    "tags": []
   },
   "outputs": [
    {
     "name": "stdout",
     "output_type": "stream",
     "text": [
      "Opened database successfully\n",
      "ID =  1\n",
      "Title =  All About Love\n",
      "Author =  belle hooks\n",
      "Description =  radical love\n",
      "ID =  2\n",
      "Title =  Wow, No Thankyou\n",
      "Author =  Samantha Irby\n",
      "Description =  unbeleivably hilarious and relatable take on dating, life, awkwradness\n",
      "ID =  3\n",
      "Title =  Crazy Rick Asians\n",
      "Author =  Kevin Kwan\n",
      "Description =  lavish fantastical imagery, snark humour, diff culture\n",
      "Operation done successfully\n"
     ]
    }
   ],
   "source": [
    "# Write your SELECT query here.\n",
    "\n",
    "\n",
    "con = sl.connect('exercises.db')\n",
    "print (\"Opened database successfully\");\n",
    "\n",
    "cursor = con.execute(\"SELECT id, title, author, description from favorite_books\")\n",
    "for row in cursor:\n",
    "   print (\"ID = \", row[0])\n",
    "   print (\"Title = \", row[1])\n",
    "   print (\"Author = \", row[2])\n",
    "   print (\"Description = \", row[3]), \"\\n\"\n",
    "\n",
    "print (\"Operation done successfully\");\n",
    "con.close()"
   ]
  },
  {
   "cell_type": "markdown",
   "metadata": {
    "azdata_cell_guid": "2127737d-71cd-4f0d-a84e-b1db8ad54af7"
   },
   "source": [
    "## Create a New Table with Pandas\n",
    "\n",
    "Create a new table called `favorite_movies` with your top 3 favorite movies. Each movie should have an id and a title. This time, use Pandas to first make a dataframe and then write the dataframe to SQL. Write a `SELECT` query to confirm that the new table does have your top 3 favorite movies."
   ]
  },
  {
   "cell_type": "code",
   "execution_count": 28,
   "metadata": {
    "azdata_cell_guid": "b4b6dd20-ccc0-42e7-b1e7-79d8596b3f9c"
   },
   "outputs": [
    {
     "name": "stdout",
     "output_type": "stream",
     "text": [
      "Opened database successfully\n",
      "Table created successfully\n"
     ]
    },
    {
     "ename": "NameError",
     "evalue": "name 'favorite_movies' is not defined",
     "output_type": "error",
     "traceback": [
      "\u001b[1;31m---------------------------------------------------------------------------\u001b[0m",
      "\u001b[1;31mNameError\u001b[0m                                 Traceback (most recent call last)",
      "\u001b[1;32m~\\AppData\\Local\\Temp\\ipykernel_42644\\2357909420.py\u001b[0m in \u001b[0;36m<module>\u001b[1;34m\u001b[0m\n\u001b[0;32m     12\u001b[0m \u001b[0mcon\u001b[0m\u001b[1;33m.\u001b[0m\u001b[0mclose\u001b[0m\u001b[1;33m(\u001b[0m\u001b[1;33m)\u001b[0m\u001b[1;33m\u001b[0m\u001b[1;33m\u001b[0m\u001b[0m\n\u001b[0;32m     13\u001b[0m \u001b[1;33m\u001b[0m\u001b[0m\n\u001b[1;32m---> 14\u001b[1;33m \u001b[0mprint\u001b[0m \u001b[1;33m(\u001b[0m\u001b[0mfavorite_movies\u001b[0m\u001b[1;33m)\u001b[0m\u001b[1;33m\u001b[0m\u001b[1;33m\u001b[0m\u001b[0m\n\u001b[0m",
      "\u001b[1;31mNameError\u001b[0m: name 'favorite_movies' is not defined"
     ]
    }
   ],
   "source": [
    "# Use Pandas to make a new table in your database.\n",
    "\n",
    "con = sl.connect('exercises.db')\n",
    "print (\"Opened database successfully\");\n",
    "\n",
    "con.execute('''CREATE TABLE favorite_movies\n",
    "         (ID INT PRIMARY KEY     NOT NULL,\n",
    "         title           TEXT    NOT NULL);''')\n",
    "\n",
    "print (\"Table created successfully\");\n",
    "\n",
    "con.close()\n",
    "\n",
    "print (favorite_movies)\n"
   ]
  },
  {
   "cell_type": "code",
   "execution_count": 30,
   "metadata": {},
   "outputs": [
    {
     "name": "stdout",
     "output_type": "stream",
     "text": [
      "Records created successfully\n"
     ]
    }
   ],
   "source": [
    "con = sl.connect('exercises.db')\n",
    "\n",
    "con.execute(\"INSERT INTO favorite_movies (id, title) values (1, 'Aladdin')\");\n",
    "\n",
    "con.execute(\"INSERT INTO favorite_movies (id, title) values (2, 'Grease')\");\n",
    "\n",
    "con.execute(\"INSERT INTO favorite_movies (id, title) values (3, 'Chicago')\");\n",
    "\n",
    "con.commit()\n",
    "print (\"Records created successfully\");\n",
    "con.close()"
   ]
  },
  {
   "cell_type": "code",
   "execution_count": 33,
   "metadata": {},
   "outputs": [
    {
     "name": "stdout",
     "output_type": "stream",
     "text": [
      "Opened database successfully\n",
      "ID =  1\n",
      "Title =  Aladdin\n",
      "ID =  2\n",
      "Title =  Grease\n",
      "ID =  3\n",
      "Title =  Chicago\n",
      "Operation done successfully\n"
     ]
    }
   ],
   "source": [
    "con = sl.connect('exercises.db')\n",
    "print (\"Opened database successfully\");\n",
    "\n",
    "cursor = con.execute(\"SELECT id, title from favorite_movies\")\n",
    "for row in cursor:\n",
    "   print (\"ID = \", row[0])\n",
    "   print (\"Title = \", row[1]), \"\\n\"\n",
    "\n",
    "print (\"Operation done successfully\");\n",
    "con.close()"
   ]
  },
  {
   "cell_type": "code",
   "execution_count": null,
   "metadata": {},
   "outputs": [],
   "source": []
  }
 ],
 "metadata": {
  "kernelspec": {
   "display_name": "Python 3 (ipykernel)",
   "language": "python",
   "name": "python3"
  },
  "language_info": {
   "codemirror_mode": {
    "name": "ipython",
    "version": 3
   },
   "file_extension": ".py",
   "mimetype": "text/x-python",
   "name": "python",
   "nbconvert_exporter": "python",
   "pygments_lexer": "ipython3",
   "version": "3.9.13"
  }
 },
 "nbformat": 4,
 "nbformat_minor": 2
}
